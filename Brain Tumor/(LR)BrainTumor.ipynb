{
  "cells": [
    {
      "metadata": {
        "ExecuteTime": {
          "start_time": "2020-06-17T14:05:13.725047Z",
          "end_time": "2020-06-17T14:05:14.883169Z"
        },
        "trusted": true
      },
      "cell_type": "code",
      "source": "import tensorflow as tf \nimport pandas as pd\n%matplotlib inline\nimport matplotlib.pyplot as plt\nimport os \nimport csv \nimport numpy as np\nimport seaborn as sns ",
      "execution_count": 54,
      "outputs": []
    },
    {
      "metadata": {
        "ExecuteTime": {
          "start_time": "2020-06-17T12:29:18.501054Z",
          "end_time": "2020-06-17T12:29:20.759208Z"
        },
        "trusted": true
      },
      "cell_type": "code",
      "source": "bt_data = pd.read_csv(\"bt_dataset.csv\")",
      "execution_count": 4,
      "outputs": []
    },
    {
      "metadata": {
        "ExecuteTime": {
          "start_time": "2020-06-17T14:23:34.011827Z",
          "end_time": "2020-06-17T14:23:34.215466Z"
        },
        "trusted": true
      },
      "cell_type": "code",
      "source": "bt_data.head(7)",
      "execution_count": 74,
      "outputs": [
        {
          "output_type": "execute_result",
          "execution_count": 74,
          "data": {
            "text/html": "<div>\n<style scoped>\n    .dataframe tbody tr th:only-of-type {\n        vertical-align: middle;\n    }\n\n    .dataframe tbody tr th {\n        vertical-align: top;\n    }\n\n    .dataframe thead th {\n        text-align: right;\n    }\n</style>\n<table border=\"1\" class=\"dataframe\">\n  <thead>\n    <tr style=\"text-align: right;\">\n      <th></th>\n      <th>Image</th>\n      <th>Mean</th>\n      <th>Variance</th>\n      <th>Standard Deviation</th>\n      <th>Entropy</th>\n      <th>Skewness</th>\n      <th>Kurtosis</th>\n      <th>Contrast</th>\n      <th>Energy</th>\n      <th>ASM</th>\n      <th>Homogeneity</th>\n      <th>Dissimilarity</th>\n      <th>Correlation</th>\n      <th>Coarseness</th>\n      <th>PSNR</th>\n      <th>SSIM</th>\n      <th>MSE</th>\n      <th>DC</th>\n      <th>Target</th>\n    </tr>\n  </thead>\n  <tbody>\n    <tr>\n      <th>0</th>\n      <td>Image1</td>\n      <td>23.448517</td>\n      <td>2538.985627</td>\n      <td>50.388348</td>\n      <td>0.651174</td>\n      <td>1.984202</td>\n      <td>5.421042</td>\n      <td>181.467713</td>\n      <td>0.781557</td>\n      <td>0.610831</td>\n      <td>0.847033</td>\n      <td>2.765411</td>\n      <td>0.968576</td>\n      <td>7.46</td>\n      <td>97.974630</td>\n      <td>0.777011</td>\n      <td>0.171163</td>\n      <td>0.303989</td>\n      <td>1</td>\n    </tr>\n    <tr>\n      <th>1</th>\n      <td>Image2</td>\n      <td>4.398331</td>\n      <td>834.853030</td>\n      <td>28.893823</td>\n      <td>0.953532</td>\n      <td>6.495203</td>\n      <td>43.349355</td>\n      <td>76.745886</td>\n      <td>0.972770</td>\n      <td>0.946281</td>\n      <td>0.980762</td>\n      <td>0.548605</td>\n      <td>0.959751</td>\n      <td>7.46</td>\n      <td>110.346597</td>\n      <td>0.977953</td>\n      <td>0.009913</td>\n      <td>0.839019</td>\n      <td>1</td>\n    </tr>\n    <tr>\n      <th>2</th>\n      <td>Image3</td>\n      <td>3.244263</td>\n      <td>642.059167</td>\n      <td>25.338886</td>\n      <td>0.966065</td>\n      <td>7.772860</td>\n      <td>61.756034</td>\n      <td>81.752406</td>\n      <td>0.980161</td>\n      <td>0.960715</td>\n      <td>0.985066</td>\n      <td>0.540411</td>\n      <td>0.944259</td>\n      <td>7.46</td>\n      <td>112.266298</td>\n      <td>0.985362</td>\n      <td>0.006372</td>\n      <td>0.849775</td>\n      <td>1</td>\n    </tr>\n    <tr>\n      <th>3</th>\n      <td>Image4</td>\n      <td>8.511353</td>\n      <td>1126.214187</td>\n      <td>33.559115</td>\n      <td>0.868765</td>\n      <td>3.763142</td>\n      <td>15.107579</td>\n      <td>362.291213</td>\n      <td>0.921786</td>\n      <td>0.849690</td>\n      <td>0.949295</td>\n      <td>2.765725</td>\n      <td>0.859027</td>\n      <td>7.46</td>\n      <td>101.955792</td>\n      <td>0.881015</td>\n      <td>0.068437</td>\n      <td>0.000000</td>\n      <td>0</td>\n    </tr>\n    <tr>\n      <th>4</th>\n      <td>Image5</td>\n      <td>21.000793</td>\n      <td>2235.316978</td>\n      <td>47.279139</td>\n      <td>0.684724</td>\n      <td>1.936029</td>\n      <td>4.722343</td>\n      <td>312.439226</td>\n      <td>0.804184</td>\n      <td>0.646711</td>\n      <td>0.880301</td>\n      <td>3.006660</td>\n      <td>0.938572</td>\n      <td>7.46</td>\n      <td>97.639870</td>\n      <td>0.766308</td>\n      <td>0.184878</td>\n      <td>0.000000</td>\n      <td>0</td>\n    </tr>\n    <tr>\n      <th>5</th>\n      <td>Image6</td>\n      <td>0.000000</td>\n      <td>0.000000</td>\n      <td>0.000000</td>\n      <td>1.000000</td>\n      <td>NaN</td>\n      <td>NaN</td>\n      <td>0.000000</td>\n      <td>1.000000</td>\n      <td>1.000000</td>\n      <td>1.000000</td>\n      <td>0.000000</td>\n      <td>1.000000</td>\n      <td>7.46</td>\n      <td>inf</td>\n      <td>NaN</td>\n      <td>0.000000</td>\n      <td>NaN</td>\n      <td>0</td>\n    </tr>\n    <tr>\n      <th>6</th>\n      <td>Image7</td>\n      <td>11.350555</td>\n      <td>998.972243</td>\n      <td>31.606522</td>\n      <td>0.761106</td>\n      <td>2.533920</td>\n      <td>7.394586</td>\n      <td>303.947978</td>\n      <td>0.854277</td>\n      <td>0.729789</td>\n      <td>0.902355</td>\n      <td>3.440551</td>\n      <td>0.866480</td>\n      <td>7.46</td>\n      <td>99.206579</td>\n      <td>0.794881</td>\n      <td>0.128889</td>\n      <td>0.000000</td>\n      <td>0</td>\n    </tr>\n  </tbody>\n</table>\n</div>",
            "text/plain": "    Image       Mean     Variance  Standard Deviation   Entropy  Skewness  \\\n0  Image1  23.448517  2538.985627           50.388348  0.651174  1.984202   \n1  Image2   4.398331   834.853030           28.893823  0.953532  6.495203   \n2  Image3   3.244263   642.059167           25.338886  0.966065  7.772860   \n3  Image4   8.511353  1126.214187           33.559115  0.868765  3.763142   \n4  Image5  21.000793  2235.316978           47.279139  0.684724  1.936029   \n5  Image6   0.000000     0.000000            0.000000  1.000000       NaN   \n6  Image7  11.350555   998.972243           31.606522  0.761106  2.533920   \n\n    Kurtosis    Contrast    Energy       ASM  Homogeneity  Dissimilarity  \\\n0   5.421042  181.467713  0.781557  0.610831     0.847033       2.765411   \n1  43.349355   76.745886  0.972770  0.946281     0.980762       0.548605   \n2  61.756034   81.752406  0.980161  0.960715     0.985066       0.540411   \n3  15.107579  362.291213  0.921786  0.849690     0.949295       2.765725   \n4   4.722343  312.439226  0.804184  0.646711     0.880301       3.006660   \n5        NaN    0.000000  1.000000  1.000000     1.000000       0.000000   \n6   7.394586  303.947978  0.854277  0.729789     0.902355       3.440551   \n\n   Correlation  Coarseness        PSNR      SSIM       MSE        DC  Target  \n0     0.968576        7.46   97.974630  0.777011  0.171163  0.303989       1  \n1     0.959751        7.46  110.346597  0.977953  0.009913  0.839019       1  \n2     0.944259        7.46  112.266298  0.985362  0.006372  0.849775       1  \n3     0.859027        7.46  101.955792  0.881015  0.068437  0.000000       0  \n4     0.938572        7.46   97.639870  0.766308  0.184878  0.000000       0  \n5     1.000000        7.46         inf       NaN  0.000000       NaN       0  \n6     0.866480        7.46   99.206579  0.794881  0.128889  0.000000       0  "
          },
          "metadata": {}
        }
      ]
    },
    {
      "metadata": {
        "ExecuteTime": {
          "start_time": "2020-06-17T14:24:28.791209Z",
          "end_time": "2020-06-17T14:24:28.84535Z"
        },
        "trusted": true
      },
      "cell_type": "code",
      "source": "bt_data.isnull().sum()",
      "execution_count": 76,
      "outputs": [
        {
          "output_type": "execute_result",
          "execution_count": 76,
          "data": {
            "text/plain": "Image                   0\nMean                    0\nVariance                0\nStandard Deviation      0\nEntropy                 0\nSkewness              369\nKurtosis              369\nContrast                0\nEnergy                  0\nASM                     0\nHomogeneity             0\nDissimilarity           0\nCorrelation             0\nCoarseness              0\nPSNR                    0\nSSIM                  369\nMSE                     0\nDC                     98\nTarget                  0\ndtype: int64"
          },
          "metadata": {}
        }
      ]
    },
    {
      "metadata": {
        "ExecuteTime": {
          "start_time": "2020-06-17T12:30:06.24209Z",
          "end_time": "2020-06-17T12:30:06.267543Z"
        },
        "trusted": true
      },
      "cell_type": "code",
      "source": "print(bt_data.shape)",
      "execution_count": 7,
      "outputs": [
        {
          "output_type": "stream",
          "text": "(1644, 19)\n",
          "name": "stdout"
        }
      ]
    },
    {
      "metadata": {
        "ExecuteTime": {
          "start_time": "2020-06-17T12:43:55.166776Z",
          "end_time": "2020-06-17T12:43:55.184387Z"
        },
        "trusted": true
      },
      "cell_type": "code",
      "source": "dfdata = bt_data",
      "execution_count": 18,
      "outputs": []
    },
    {
      "metadata": {
        "ExecuteTime": {
          "start_time": "2020-06-17T12:44:56.533471Z",
          "end_time": "2020-06-17T12:44:56.574236Z"
        },
        "trusted": true
      },
      "cell_type": "code",
      "source": "dfdata = dfdata.drop(['Image'], axis=1)",
      "execution_count": 21,
      "outputs": []
    },
    {
      "metadata": {
        "ExecuteTime": {
          "start_time": "2020-06-17T12:45:01.007323Z",
          "end_time": "2020-06-17T12:45:01.135069Z"
        },
        "trusted": true
      },
      "cell_type": "code",
      "source": "dfdata.head()",
      "execution_count": 22,
      "outputs": [
        {
          "output_type": "execute_result",
          "execution_count": 22,
          "data": {
            "text/html": "<div>\n<style scoped>\n    .dataframe tbody tr th:only-of-type {\n        vertical-align: middle;\n    }\n\n    .dataframe tbody tr th {\n        vertical-align: top;\n    }\n\n    .dataframe thead th {\n        text-align: right;\n    }\n</style>\n<table border=\"1\" class=\"dataframe\">\n  <thead>\n    <tr style=\"text-align: right;\">\n      <th></th>\n      <th>Mean</th>\n      <th>Variance</th>\n      <th>Standard Deviation</th>\n      <th>Entropy</th>\n      <th>Skewness</th>\n      <th>Kurtosis</th>\n      <th>Contrast</th>\n      <th>Energy</th>\n      <th>ASM</th>\n      <th>Homogeneity</th>\n      <th>Dissimilarity</th>\n      <th>Correlation</th>\n      <th>Coarseness</th>\n      <th>PSNR</th>\n      <th>SSIM</th>\n      <th>MSE</th>\n      <th>DC</th>\n      <th>Target</th>\n    </tr>\n  </thead>\n  <tbody>\n    <tr>\n      <th>0</th>\n      <td>23.448517</td>\n      <td>2538.985627</td>\n      <td>50.388348</td>\n      <td>0.651174</td>\n      <td>1.984202</td>\n      <td>5.421042</td>\n      <td>181.467713</td>\n      <td>0.781557</td>\n      <td>0.610831</td>\n      <td>0.847033</td>\n      <td>2.765411</td>\n      <td>0.968576</td>\n      <td>7.46</td>\n      <td>97.974630</td>\n      <td>0.777011</td>\n      <td>0.171163</td>\n      <td>0.303989</td>\n      <td>1</td>\n    </tr>\n    <tr>\n      <th>1</th>\n      <td>4.398331</td>\n      <td>834.853030</td>\n      <td>28.893823</td>\n      <td>0.953532</td>\n      <td>6.495203</td>\n      <td>43.349355</td>\n      <td>76.745886</td>\n      <td>0.972770</td>\n      <td>0.946281</td>\n      <td>0.980762</td>\n      <td>0.548605</td>\n      <td>0.959751</td>\n      <td>7.46</td>\n      <td>110.346597</td>\n      <td>0.977953</td>\n      <td>0.009913</td>\n      <td>0.839019</td>\n      <td>1</td>\n    </tr>\n    <tr>\n      <th>2</th>\n      <td>3.244263</td>\n      <td>642.059167</td>\n      <td>25.338886</td>\n      <td>0.966065</td>\n      <td>7.772860</td>\n      <td>61.756034</td>\n      <td>81.752406</td>\n      <td>0.980161</td>\n      <td>0.960715</td>\n      <td>0.985066</td>\n      <td>0.540411</td>\n      <td>0.944259</td>\n      <td>7.46</td>\n      <td>112.266298</td>\n      <td>0.985362</td>\n      <td>0.006372</td>\n      <td>0.849775</td>\n      <td>1</td>\n    </tr>\n    <tr>\n      <th>3</th>\n      <td>8.511353</td>\n      <td>1126.214187</td>\n      <td>33.559115</td>\n      <td>0.868765</td>\n      <td>3.763142</td>\n      <td>15.107579</td>\n      <td>362.291213</td>\n      <td>0.921786</td>\n      <td>0.849690</td>\n      <td>0.949295</td>\n      <td>2.765725</td>\n      <td>0.859027</td>\n      <td>7.46</td>\n      <td>101.955792</td>\n      <td>0.881015</td>\n      <td>0.068437</td>\n      <td>0.000000</td>\n      <td>0</td>\n    </tr>\n    <tr>\n      <th>4</th>\n      <td>21.000793</td>\n      <td>2235.316978</td>\n      <td>47.279139</td>\n      <td>0.684724</td>\n      <td>1.936029</td>\n      <td>4.722343</td>\n      <td>312.439226</td>\n      <td>0.804184</td>\n      <td>0.646711</td>\n      <td>0.880301</td>\n      <td>3.006660</td>\n      <td>0.938572</td>\n      <td>7.46</td>\n      <td>97.639870</td>\n      <td>0.766308</td>\n      <td>0.184878</td>\n      <td>0.000000</td>\n      <td>0</td>\n    </tr>\n  </tbody>\n</table>\n</div>",
            "text/plain": "        Mean     Variance  Standard Deviation   Entropy  Skewness   Kurtosis  \\\n0  23.448517  2538.985627           50.388348  0.651174  1.984202   5.421042   \n1   4.398331   834.853030           28.893823  0.953532  6.495203  43.349355   \n2   3.244263   642.059167           25.338886  0.966065  7.772860  61.756034   \n3   8.511353  1126.214187           33.559115  0.868765  3.763142  15.107579   \n4  21.000793  2235.316978           47.279139  0.684724  1.936029   4.722343   \n\n     Contrast    Energy       ASM  Homogeneity  Dissimilarity  Correlation  \\\n0  181.467713  0.781557  0.610831     0.847033       2.765411     0.968576   \n1   76.745886  0.972770  0.946281     0.980762       0.548605     0.959751   \n2   81.752406  0.980161  0.960715     0.985066       0.540411     0.944259   \n3  362.291213  0.921786  0.849690     0.949295       2.765725     0.859027   \n4  312.439226  0.804184  0.646711     0.880301       3.006660     0.938572   \n\n   Coarseness        PSNR      SSIM       MSE        DC  Target  \n0        7.46   97.974630  0.777011  0.171163  0.303989       1  \n1        7.46  110.346597  0.977953  0.009913  0.839019       1  \n2        7.46  112.266298  0.985362  0.006372  0.849775       1  \n3        7.46  101.955792  0.881015  0.068437  0.000000       0  \n4        7.46   97.639870  0.766308  0.184878  0.000000       0  "
          },
          "metadata": {}
        }
      ]
    },
    {
      "metadata": {
        "ExecuteTime": {
          "start_time": "2020-06-17T13:43:33.8342Z",
          "end_time": "2020-06-17T13:43:35.181254Z"
        },
        "trusted": true
      },
      "cell_type": "code",
      "source": "list(bt_data.keys())",
      "execution_count": 45,
      "outputs": [
        {
          "output_type": "execute_result",
          "execution_count": 45,
          "data": {
            "text/plain": "['Image',\n 'Mean',\n 'Variance',\n 'Standard Deviation',\n 'Entropy',\n 'Skewness',\n 'Kurtosis',\n 'Contrast',\n 'Energy',\n 'ASM',\n 'Homogeneity',\n 'Dissimilarity',\n 'Correlation',\n 'Coarseness',\n 'PSNR',\n 'SSIM',\n 'MSE',\n 'DC',\n 'Target']"
          },
          "metadata": {}
        }
      ]
    },
    {
      "metadata": {
        "trusted": true
      },
      "cell_type": "code",
      "source": "",
      "execution_count": null,
      "outputs": []
    },
    {
      "metadata": {
        "ExecuteTime": {
          "start_time": "2020-06-17T13:55:51.860846Z",
          "end_time": "2020-06-17T13:55:52.089373Z"
        },
        "trusted": true
      },
      "cell_type": "code",
      "source": "dfdata = dfdata.replace([np.inf, -np.inf], np.nan)\ndfdata = dfdata.fillna(dfdata.mean())\n\nfeature_columns = ['Mean', 'Variance', 'Standard Deviation', 'Entropy', 'Skewness', 'Kurtosis', 'Contrast', 'Energy', 'ASM', \n                   'Homogeneity', 'Dissimilarity', 'Correlation', 'Coarseness', 'PSNR', 'SSIM', 'MSE', 'DC']\n\ny = dfdata['Target']  # the label \nX = dfdata[feature_columns]",
      "execution_count": 47,
      "outputs": []
    },
    {
      "metadata": {
        "ExecuteTime": {
          "start_time": "2020-06-17T13:56:36.528553Z",
          "end_time": "2020-06-17T13:56:38.159548Z"
        },
        "trusted": true
      },
      "cell_type": "code",
      "source": "from sklearn.model_selection import train_test_split\nX_train, X_test, y_train, y_test = train_test_split(X, y, test_size=0.20)",
      "execution_count": 48,
      "outputs": []
    },
    {
      "metadata": {
        "ExecuteTime": {
          "start_time": "2020-06-17T13:56:59.93118Z",
          "end_time": "2020-06-17T13:57:01.445925Z"
        },
        "trusted": true
      },
      "cell_type": "code",
      "source": "from sklearn.linear_model import LogisticRegression\n\nlog_reg = LogisticRegression()\nlog_reg.fit(X, y)",
      "execution_count": 49,
      "outputs": [
        {
          "output_type": "stream",
          "text": "/home/nbuser/anaconda3_501/lib/python3.6/site-packages/sklearn/linear_model/logistic.py:433: FutureWarning: Default solver will be changed to 'lbfgs' in 0.22. Specify a solver to silence this warning.\n  FutureWarning)\n",
          "name": "stderr"
        },
        {
          "output_type": "execute_result",
          "execution_count": 49,
          "data": {
            "text/plain": "LogisticRegression(C=1.0, class_weight=None, dual=False, fit_intercept=True,\n          intercept_scaling=1, max_iter=100, multi_class='warn',\n          n_jobs=None, penalty='l2', random_state=None, solver='warn',\n          tol=0.0001, verbose=0, warm_start=False)"
          },
          "metadata": {}
        }
      ]
    },
    {
      "metadata": {
        "ExecuteTime": {
          "start_time": "2020-06-17T13:58:29.319834Z",
          "end_time": "2020-06-17T13:58:29.46782Z"
        },
        "trusted": true
      },
      "cell_type": "code",
      "source": "y_pred=log_reg.predict(X_test)",
      "execution_count": 50,
      "outputs": []
    },
    {
      "metadata": {
        "ExecuteTime": {
          "start_time": "2020-06-17T13:59:23.170269Z",
          "end_time": "2020-06-17T13:59:24.091122Z"
        },
        "trusted": true
      },
      "cell_type": "code",
      "source": "from sklearn import metrics\ncnf_matrix = metrics.confusion_matrix(y_test, y_pred)\ncnf_matrix ",
      "execution_count": 51,
      "outputs": [
        {
          "output_type": "execute_result",
          "execution_count": 51,
          "data": {
            "text/plain": "array([[  1,  34],\n       [  1, 293]])"
          },
          "metadata": {}
        }
      ]
    },
    {
      "metadata": {
        "ExecuteTime": {
          "start_time": "2020-06-17T14:06:48.634723Z",
          "end_time": "2020-06-17T14:06:58.078961Z"
        },
        "trusted": true
      },
      "cell_type": "code",
      "source": "class_names=[0, 1]\nfig, ax = plt.subplots()\ntick_marks = np.arange(len(class_names))\nplt.xticks(tick_marks, class_names)\nplt.yticks(tick_marks, class_names)\n\nsns.heatmap(pd.DataFrame(cnf_matrix), annot=True, cmap=\"YlGnBu\", fmt='g')\nax.xaxis.set_label_position(\"top\")\nplt.tight_layout()\nplt.title('Confusion matrix', y=1.1)\nplt.ylabel('Actual label')\nplt.xlabel('Predicted label')",
      "execution_count": 56,
      "outputs": [
        {
          "output_type": "execute_result",
          "execution_count": 56,
          "data": {
            "text/plain": "Text(0.5, 257.44, 'Predicted label')"
          },
          "metadata": {}
        },
        {
          "output_type": "display_data",
          "data": {
            "image/png": "[encoded data removed]",
            "text/plain": "<Figure size 432x288 with 2 Axes>"
          },
          "metadata": {
            "needs_background": "light"
          }
        }
      ]
    },
    {
      "metadata": {
        "ExecuteTime": {
          "start_time": "2020-06-17T14:07:40.597503Z",
          "end_time": "2020-06-17T14:07:40.754299Z"
        },
        "trusted": true
      },
      "cell_type": "code",
      "source": "print(\"Accuracy:\",metrics.accuracy_score(y_test, y_pred))\nprint(\"Precision:\",metrics.precision_score(y_test, y_pred))\nprint(\"Recall:\",metrics.recall_score(y_test, y_pred))",
      "execution_count": 57,
      "outputs": [
        {
          "output_type": "stream",
          "text": "Accuracy: 0.8936170212765957\nPrecision: 0.8960244648318043\nRecall: 0.9965986394557823\n",
          "name": "stdout"
        }
      ]
    },
    {
      "metadata": {
        "ExecuteTime": {
          "start_time": "2020-06-17T14:47:28.034951Z",
          "end_time": "2020-06-17T14:47:29.933779Z"
        },
        "trusted": true
      },
      "cell_type": "code",
      "source": "y_pred_proba = log_reg.predict_proba(X_test)[::,1]\nfpr, tpr, _ = metrics.roc_curve(y_test,  y_pred_proba)\nauc = metrics.roc_auc_score(y_test, y_pred_proba)\nplt.plot(fpr,tpr,label=\"data 1, auc=\"+str(auc))\nplt.legend(loc=4)\nplt.show()",
      "execution_count": 103,
      "outputs": [
        {
          "output_type": "display_data",
          "data": {
            "image/png": "[encoded data removed]",
            "text/plain": "<Figure size 432x288 with 1 Axes>"
          },
          "metadata": {
            "needs_background": "light"
          }
        }
      ]
    },
    {
      "metadata": {
        "trusted": true
      },
      "cell_type": "code",
      "source": "",
      "execution_count": null,
      "outputs": []
    },
    {
      "metadata": {
        "ExecuteTime": {
          "start_time": "2020-06-17T15:19:27.910186Z",
          "end_time": "2020-06-17T15:19:27.941299Z"
        },
        "trusted": true
      },
      "cell_type": "code",
      "source": "sample = X_test.iloc[8]",
      "execution_count": 229,
      "outputs": []
    },
    {
      "metadata": {
        "ExecuteTime": {
          "start_time": "2020-06-17T15:19:42.160318Z",
          "end_time": "2020-06-17T15:19:42.184978Z"
        },
        "trusted": true
      },
      "cell_type": "code",
      "source": "y_pred1=log_reg.predict(X_test[7:8])",
      "execution_count": 231,
      "outputs": []
    },
    {
      "metadata": {
        "ExecuteTime": {
          "start_time": "2020-06-17T15:19:44.379613Z",
          "end_time": "2020-06-17T15:19:44.417757Z"
        },
        "trusted": true
      },
      "cell_type": "code",
      "source": "y_pred1",
      "execution_count": 232,
      "outputs": [
        {
          "output_type": "execute_result",
          "execution_count": 232,
          "data": {
            "text/plain": "array([1])"
          },
          "metadata": {}
        }
      ]
    },
    {
      "metadata": {
        "ExecuteTime": {
          "start_time": "2020-06-17T15:19:45.265705Z",
          "end_time": "2020-06-17T15:19:45.29625Z"
        },
        "trusted": true
      },
      "cell_type": "code",
      "source": "y_test.iloc[17]",
      "execution_count": 233,
      "outputs": [
        {
          "output_type": "execute_result",
          "execution_count": 233,
          "data": {
            "text/plain": "1"
          },
          "metadata": {}
        }
      ]
    },
    {
      "metadata": {
        "trusted": true
      },
      "cell_type": "code",
      "source": "",
      "execution_count": null,
      "outputs": []
    }
  ],
  "metadata": {
    "kernelspec": {
      "name": "python36",
      "display_name": "Python 3.6",
      "language": "python"
    },
    "language_info": {
      "mimetype": "text/x-python",
      "nbconvert_exporter": "python",
      "name": "python",
      "pygments_lexer": "ipython3",
      "version": "3.6.6",
      "file_extension": ".py",
      "codemirror_mode": {
        "version": 3,
        "name": "ipython"
      }
    }
  },
  "nbformat": 4,
  "nbformat_minor": 2
}